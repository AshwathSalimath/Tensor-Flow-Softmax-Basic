{
  "nbformat": 4,
  "nbformat_minor": 0,
  "metadata": {
    "colab": {
      "name": "TensorFlowSoftmax.ipynb",
      "version": "0.3.2",
      "views": {},
      "default_view": {},
      "provenance": []
    },
    "kernelspec": {
      "name": "python3",
      "display_name": "Python 3"
    },
    "accelerator": "GPU"
  },
  "cells": [
    {
      "metadata": {
        "id": "PG1esaKMXF-Z",
        "colab_type": "text"
      },
      "cell_type": "markdown",
      "source": [
        "#TensorFlow Softmax Regression\n",
        "###Importing All the Required Libraries"
      ]
    },
    {
      "metadata": {
        "id": "NinGHg1DKjw7",
        "colab_type": "text"
      },
      "cell_type": "markdown",
      "source": [
        "Code Reference and Credits - hvass-labs.org"
      ]
    },
    {
      "metadata": {
        "id": "hyaOKWgoAvxJ",
        "colab_type": "code",
        "colab": {
          "autoexec": {
            "startup": false,
            "wait_interval": 0
          }
        }
      },
      "cell_type": "code",
      "source": [
        "%matplotlib inline\n",
        "import matplotlib.pyplot as plt\n",
        "import tensorflow as tf\n",
        "import numpy as np\n",
        "from sklearn.metrics import confusion_matrix"
      ],
      "execution_count": 0,
      "outputs": []
    },
    {
      "metadata": {
        "id": "yzjFh9dHXrcf",
        "colab_type": "text"
      },
      "cell_type": "markdown",
      "source": [
        "###Loading MNIST Dataset and the Dataset contains 70,000 Images and they are divided in three sets i.e. Training, Test and Validation Sets. "
      ]
    },
    {
      "metadata": {
        "id": "I-10GvPSsekf",
        "colab_type": "code",
        "colab": {
          "autoexec": {
            "startup": false,
            "wait_interval": 0
          },
          "base_uri": "https://localhost:8080/",
          "height": 524
        },
        "cellView": "both",
        "outputId": "af6cee6f-ef6e-4e94-a858-347b29a5840c",
        "executionInfo": {
          "status": "ok",
          "timestamp": 1526585568936,
          "user_tz": -60,
          "elapsed": 6975,
          "user": {
            "displayName": "Ashwath Salimath",
            "photoUrl": "//lh4.googleusercontent.com/-yBl6P1mPn2U/AAAAAAAAAAI/AAAAAAAAAAc/qKqdUP96_UA/s50-c-k-no/photo.jpg",
            "userId": "101071931555144901076"
          }
        }
      },
      "cell_type": "code",
      "source": [
        "from tensorflow.examples.tutorials.mnist import input_data\n",
        "data = input_data.read_data_sets(\"data/MNIST/\", one_hot=True)"
      ],
      "execution_count": 2,
      "outputs": [
        {
          "output_type": "stream",
          "text": [
            "WARNING:tensorflow:From <ipython-input-2-d748032e7ab8>:2: read_data_sets (from tensorflow.contrib.learn.python.learn.datasets.mnist) is deprecated and will be removed in a future version.\n",
            "Instructions for updating:\n",
            "Please use alternatives such as official/mnist/dataset.py from tensorflow/models.\n",
            "WARNING:tensorflow:From /usr/local/lib/python3.6/dist-packages/tensorflow/contrib/learn/python/learn/datasets/mnist.py:260: maybe_download (from tensorflow.contrib.learn.python.learn.datasets.base) is deprecated and will be removed in a future version.\n",
            "Instructions for updating:\n",
            "Please write your own downloading logic.\n",
            "WARNING:tensorflow:From /usr/local/lib/python3.6/dist-packages/tensorflow/contrib/learn/python/learn/datasets/base.py:252: _internal_retry.<locals>.wrap.<locals>.wrapped_fn (from tensorflow.contrib.learn.python.learn.datasets.base) is deprecated and will be removed in a future version.\n",
            "Instructions for updating:\n",
            "Please use urllib or similar directly.\n",
            "Successfully downloaded train-images-idx3-ubyte.gz 9912422 bytes.\n",
            "WARNING:tensorflow:From /usr/local/lib/python3.6/dist-packages/tensorflow/contrib/learn/python/learn/datasets/mnist.py:262: extract_images (from tensorflow.contrib.learn.python.learn.datasets.mnist) is deprecated and will be removed in a future version.\n",
            "Instructions for updating:\n",
            "Please use tf.data to implement this functionality.\n",
            "Extracting data/MNIST/train-images-idx3-ubyte.gz\n",
            "Successfully downloaded train-labels-idx1-ubyte.gz 28881 bytes.\n",
            "WARNING:tensorflow:From /usr/local/lib/python3.6/dist-packages/tensorflow/contrib/learn/python/learn/datasets/mnist.py:267: extract_labels (from tensorflow.contrib.learn.python.learn.datasets.mnist) is deprecated and will be removed in a future version.\n",
            "Instructions for updating:\n",
            "Please use tf.data to implement this functionality.\n",
            "Extracting data/MNIST/train-labels-idx1-ubyte.gz\n",
            "WARNING:tensorflow:From /usr/local/lib/python3.6/dist-packages/tensorflow/contrib/learn/python/learn/datasets/mnist.py:110: dense_to_one_hot (from tensorflow.contrib.learn.python.learn.datasets.mnist) is deprecated and will be removed in a future version.\n",
            "Instructions for updating:\n",
            "Please use tf.one_hot on tensors.\n",
            "Successfully downloaded t10k-images-idx3-ubyte.gz 1648877 bytes.\n",
            "Extracting data/MNIST/t10k-images-idx3-ubyte.gz\n",
            "Successfully downloaded t10k-labels-idx1-ubyte.gz 4542 bytes.\n",
            "Extracting data/MNIST/t10k-labels-idx1-ubyte.gz\n",
            "WARNING:tensorflow:From /usr/local/lib/python3.6/dist-packages/tensorflow/contrib/learn/python/learn/datasets/mnist.py:290: DataSet.__init__ (from tensorflow.contrib.learn.python.learn.datasets.mnist) is deprecated and will be removed in a future version.\n",
            "Instructions for updating:\n",
            "Please use alternatives such as official/mnist/dataset.py from tensorflow/models.\n"
          ],
          "name": "stdout"
        }
      ]
    },
    {
      "metadata": {
        "id": "M6wgkIvds7F5",
        "colab_type": "code",
        "colab": {
          "autoexec": {
            "startup": false,
            "wait_interval": 0
          },
          "base_uri": "https://localhost:8080/",
          "height": 84
        },
        "outputId": "4573bf57-a1aa-4483-9752-17741828ce81",
        "executionInfo": {
          "status": "ok",
          "timestamp": 1526585571534,
          "user_tz": -60,
          "elapsed": 585,
          "user": {
            "displayName": "Ashwath Salimath",
            "photoUrl": "//lh4.googleusercontent.com/-yBl6P1mPn2U/AAAAAAAAAAI/AAAAAAAAAAc/qKqdUP96_UA/s50-c-k-no/photo.jpg",
            "userId": "101071931555144901076"
          }
        }
      },
      "cell_type": "code",
      "source": [
        "print(\"Size of:\")\n",
        "print(\"- Training-set:\\t\\t{}\".format(len(data.train.labels)))\n",
        "print(\"- Test-set:\\t\\t{}\".format(len(data.test.labels)))\n",
        "print(\"- Validation-set:\\t{}\".format(len(data.validation.labels)))"
      ],
      "execution_count": 3,
      "outputs": [
        {
          "output_type": "stream",
          "text": [
            "Size of:\n",
            "- Training-set:\t\t55000\n",
            "- Test-set:\t\t10000\n",
            "- Validation-set:\t5000\n"
          ],
          "name": "stdout"
        }
      ]
    },
    {
      "metadata": {
        "id": "ai37G2AnYVve",
        "colab_type": "text"
      },
      "cell_type": "markdown",
      "source": [
        "###Checking Test Set, The Dataset is loaded with One_Hot_Encoding Enabled. Each Number is converted to an one hot encoding format."
      ]
    },
    {
      "metadata": {
        "id": "EhtwxUC9tCAA",
        "colab_type": "code",
        "colab": {
          "autoexec": {
            "startup": false,
            "wait_interval": 0
          },
          "base_uri": "https://localhost:8080/",
          "height": 101
        },
        "outputId": "199f7501-e9db-4207-8c2d-0a4c6744dd8b",
        "executionInfo": {
          "status": "ok",
          "timestamp": 1526585574605,
          "user_tz": -60,
          "elapsed": 691,
          "user": {
            "displayName": "Ashwath Salimath",
            "photoUrl": "//lh4.googleusercontent.com/-yBl6P1mPn2U/AAAAAAAAAAI/AAAAAAAAAAc/qKqdUP96_UA/s50-c-k-no/photo.jpg",
            "userId": "101071931555144901076"
          }
        }
      },
      "cell_type": "code",
      "source": [
        "data.test.labels[0:5, :]"
      ],
      "execution_count": 4,
      "outputs": [
        {
          "output_type": "execute_result",
          "data": {
            "text/plain": [
              "array([[0., 0., 0., 0., 0., 0., 0., 1., 0., 0.],\n",
              "       [0., 0., 1., 0., 0., 0., 0., 0., 0., 0.],\n",
              "       [0., 1., 0., 0., 0., 0., 0., 0., 0., 0.],\n",
              "       [1., 0., 0., 0., 0., 0., 0., 0., 0., 0.],\n",
              "       [0., 0., 0., 0., 1., 0., 0., 0., 0., 0.]])"
            ]
          },
          "metadata": {
            "tags": []
          },
          "execution_count": 4
        }
      ]
    },
    {
      "metadata": {
        "id": "kkJ-Q86oZKkJ",
        "colab_type": "text"
      },
      "cell_type": "markdown",
      "source": [
        "###We also need the classes as single numbers for various comparisons and performance measures, so we convert the One-Hot encoded vectors to a single number by taking the index of the highest element. This is achieved using argmax()."
      ]
    },
    {
      "metadata": {
        "id": "CD5EW86xtMIz",
        "colab_type": "code",
        "colab": {
          "autoexec": {
            "startup": false,
            "wait_interval": 0
          }
        }
      },
      "cell_type": "code",
      "source": [
        "data.test.cls = np.array([label.argmax() for label in data.test.labels])"
      ],
      "execution_count": 0,
      "outputs": []
    },
    {
      "metadata": {
        "id": "dI3Dy0nstREN",
        "colab_type": "code",
        "colab": {
          "autoexec": {
            "startup": false,
            "wait_interval": 0
          },
          "base_uri": "https://localhost:8080/",
          "height": 34
        },
        "outputId": "2d47cc48-b451-4c5e-b1cf-319328da7a6c",
        "executionInfo": {
          "status": "ok",
          "timestamp": 1526585580425,
          "user_tz": -60,
          "elapsed": 569,
          "user": {
            "displayName": "Ashwath Salimath",
            "photoUrl": "//lh4.googleusercontent.com/-yBl6P1mPn2U/AAAAAAAAAAI/AAAAAAAAAAc/qKqdUP96_UA/s50-c-k-no/photo.jpg",
            "userId": "101071931555144901076"
          }
        }
      },
      "cell_type": "code",
      "source": [
        "data.test.cls[0:10]"
      ],
      "execution_count": 6,
      "outputs": [
        {
          "output_type": "execute_result",
          "data": {
            "text/plain": [
              "array([7, 2, 1, 0, 4, 1, 4, 9, 5, 9])"
            ]
          },
          "metadata": {
            "tags": []
          },
          "execution_count": 6
        }
      ]
    },
    {
      "metadata": {
        "id": "No_858v4tUTX",
        "colab_type": "code",
        "colab": {
          "autoexec": {
            "startup": false,
            "wait_interval": 0
          }
        }
      },
      "cell_type": "code",
      "source": [
        "# We know that MNIST images are 28 pixels in each dimension.\n",
        "img_size = 28\n",
        "\n",
        "# Images are stored in one-dimensional arrays of this length.\n",
        "img_size_flat = img_size * img_size\n",
        "\n",
        "# Tuple with height and width of images used to reshape arrays.\n",
        "img_shape = (img_size, img_size)\n",
        "\n",
        "# Number of classes, one class for each of 10 digits.\n",
        "num_classes = 10"
      ],
      "execution_count": 0,
      "outputs": []
    },
    {
      "metadata": {
        "id": "Qb_4yjcqbANd",
        "colab_type": "text"
      },
      "cell_type": "markdown",
      "source": [
        "###Helper Function for Plotting Images"
      ]
    },
    {
      "metadata": {
        "id": "0jUpDl_LupF0",
        "colab_type": "code",
        "colab": {
          "autoexec": {
            "startup": false,
            "wait_interval": 0
          }
        }
      },
      "cell_type": "code",
      "source": [
        "def plot_images(images, cls_true, cls_pred=None):\n",
        "    assert len(images) == len(cls_true) == 9\n",
        "    \n",
        "    # Create figure with 3x3 sub-plots.\n",
        "    fig, axes = plt.subplots(3, 3)\n",
        "    fig.subplots_adjust(hspace=0.3, wspace=0.3)\n",
        "\n",
        "    for i, ax in enumerate(axes.flat):\n",
        "        # Plot image.\n",
        "        ax.imshow(images[i].reshape(img_shape), cmap='binary')\n",
        "\n",
        "        # Show true and predicted classes.\n",
        "        if cls_pred is None:\n",
        "            xlabel = \"True: {0}\".format(cls_true[i])\n",
        "        else:\n",
        "            xlabel = \"True: {0}, Pred: {1}\".format(cls_true[i], cls_pred[i])\n",
        "\n",
        "        ax.set_xlabel(xlabel)\n",
        "        \n",
        "        # Remove ticks from the plot.\n",
        "        ax.set_xticks([])\n",
        "        ax.set_yticks([])\n",
        "        \n",
        "    # Ensure the plot is shown correctly with multiple plots\n",
        "    # in a single Notebook cell.\n",
        "    plt.show()"
      ],
      "execution_count": 0,
      "outputs": []
    },
    {
      "metadata": {
        "id": "Doj_k7SJbnk9",
        "colab_type": "text"
      },
      "cell_type": "markdown",
      "source": [
        "###Plotting few images to see if data is correct"
      ]
    },
    {
      "metadata": {
        "id": "gAVHwPCnu6lE",
        "colab_type": "code",
        "colab": {
          "autoexec": {
            "startup": false,
            "wait_interval": 0
          },
          "base_uri": "https://localhost:8080/",
          "height": 262
        },
        "outputId": "a3f7e954-e2dc-4ee4-b26a-60d4d4562fe6",
        "executionInfo": {
          "status": "ok",
          "timestamp": 1526585589421,
          "user_tz": -60,
          "elapsed": 995,
          "user": {
            "displayName": "Ashwath Salimath",
            "photoUrl": "//lh4.googleusercontent.com/-yBl6P1mPn2U/AAAAAAAAAAI/AAAAAAAAAAc/qKqdUP96_UA/s50-c-k-no/photo.jpg",
            "userId": "101071931555144901076"
          }
        }
      },
      "cell_type": "code",
      "source": [
        "# Get the first images from the test-set.\n",
        "images = data.test.images[0:9]\n",
        "\n",
        "# Get the true classes for those images.\n",
        "cls_true = data.test.cls[0:9]\n",
        "\n",
        "# Plot the images and labels using our helper-function above.\n",
        "plot_images(images=images, cls_true=cls_true)"
      ],
      "execution_count": 9,
      "outputs": [
        {
          "output_type": "display_data",
          "data": {
            "image/png": "[encoded data removed]",
            "text/plain": [
              "<matplotlib.figure.Figure at 0x7fb5bf44ea58>"
            ]
          },
          "metadata": {
            "tags": []
          }
        }
      ]
    },
    {
      "metadata": {
        "id": "2sIrVmScc2M5",
        "colab_type": "text"
      },
      "cell_type": "markdown",
      "source": [
        "##TensorFlow Graph\n",
        "\n",
        "The entire purpose of TensorFlow is to have a so-called computational graph that can be executed much more efficiently than if the same calculations were to be performed directly in Python. \n",
        "\n",
        "###A TensorFlow graph consists of the following parts which will be detailed below:\n",
        "- Placeholder variables are used to change the input to the graph.\n",
        "- Model variables that are going to be optimized so as to make the model perform better.\n",
        "- The model which is essentially just a mathematical function that calculates some output given the input in the placeholder variables and the model variables.\n",
        "- A cost measure that can be used to guide the optimization of the variables.\n",
        "- An optimization method which updates the variables of the model."
      ]
    },
    {
      "metadata": {
        "id": "abMM5_QxepLB",
        "colab_type": "text"
      },
      "cell_type": "markdown",
      "source": [
        "###Place Holder Variables\n",
        "\n",
        "Placeholder variables serve as the input to the graph that we may change each time we execute the graph.\n",
        "\n"
      ]
    },
    {
      "metadata": {
        "id": "5KGrsKy5u_OZ",
        "colab_type": "code",
        "colab": {
          "autoexec": {
            "startup": false,
            "wait_interval": 0
          }
        }
      },
      "cell_type": "code",
      "source": [
        "x = tf.placeholder(tf.float32, [None, img_size_flat])"
      ],
      "execution_count": 0,
      "outputs": []
    },
    {
      "metadata": {
        "id": "650BZk-TvFLQ",
        "colab_type": "code",
        "colab": {
          "autoexec": {
            "startup": false,
            "wait_interval": 0
          }
        }
      },
      "cell_type": "code",
      "source": [
        "y_true = tf.placeholder(tf.float32, [None, num_classes])"
      ],
      "execution_count": 0,
      "outputs": []
    },
    {
      "metadata": {
        "id": "e_x0dKI4vJIK",
        "colab_type": "code",
        "colab": {
          "autoexec": {
            "startup": false,
            "wait_interval": 0
          }
        }
      },
      "cell_type": "code",
      "source": [
        "y_true_cls = tf.placeholder(tf.int64, [None])"
      ],
      "execution_count": 0,
      "outputs": []
    },
    {
      "metadata": {
        "id": "IhnvsqhefPe3",
        "colab_type": "text"
      },
      "cell_type": "markdown",
      "source": [
        "###Variables to be optimized\n",
        "\n",
        "Weights and Biases are model variables that must be changed by TensorFlow so as to make the model perform better on the training data."
      ]
    },
    {
      "metadata": {
        "id": "DToOUwr9vPRe",
        "colab_type": "code",
        "colab": {
          "autoexec": {
            "startup": false,
            "wait_interval": 0
          }
        }
      },
      "cell_type": "code",
      "source": [
        "weights = tf.Variable(tf.zeros([img_size_flat, num_classes]))"
      ],
      "execution_count": 0,
      "outputs": []
    },
    {
      "metadata": {
        "id": "ywt68EzzvSqV",
        "colab_type": "code",
        "colab": {
          "autoexec": {
            "startup": false,
            "wait_interval": 0
          }
        }
      },
      "cell_type": "code",
      "source": [
        "biases = tf.Variable(tf.zeros([num_classes]))"
      ],
      "execution_count": 0,
      "outputs": []
    },
    {
      "metadata": {
        "id": "5mIcfTbOgED5",
        "colab_type": "text"
      },
      "cell_type": "markdown",
      "source": [
        "###Model\n",
        "\n",
        "The following simple mathematical model multiplies the images in the placeholder variable x with the weights and then adds the biases. logits is a matrix with num_images rows and num_classes columns, where the element of the $i$'th row and $j$'th column is an estimate of how likely the $i$'th input image is to be of the $j$'th class.\n",
        "\n",
        "Then, The estimates in the logit matrix i.e. each row are normalized to the values which range between 0 and 1. This is achieved using softmax function and the result is stored in y_pred."
      ]
    },
    {
      "metadata": {
        "id": "BtzSpC6HvUsw",
        "colab_type": "code",
        "colab": {
          "autoexec": {
            "startup": false,
            "wait_interval": 0
          }
        }
      },
      "cell_type": "code",
      "source": [
        "logits = tf.matmul(x, weights) + biases"
      ],
      "execution_count": 0,
      "outputs": []
    },
    {
      "metadata": {
        "id": "a7BAhHHTvYu7",
        "colab_type": "code",
        "colab": {
          "autoexec": {
            "startup": false,
            "wait_interval": 0
          }
        }
      },
      "cell_type": "code",
      "source": [
        "y_pred = tf.nn.softmax(logits)"
      ],
      "execution_count": 0,
      "outputs": []
    },
    {
      "metadata": {
        "id": "0UrXejlGvbg0",
        "colab_type": "code",
        "colab": {
          "autoexec": {
            "startup": false,
            "wait_interval": 0
          }
        }
      },
      "cell_type": "code",
      "source": [
        "y_pred_cls = tf.argmax(y_pred, axis=1)"
      ],
      "execution_count": 0,
      "outputs": []
    },
    {
      "metadata": {
        "id": "qOBugsYbjD4j",
        "colab_type": "text"
      },
      "cell_type": "markdown",
      "source": [
        "To make the model better at classifying the input images, we must somehow change the variables for weights and biases. To do this we first need to know how well the model currently performs by comparing the predicted output of the model y_pred to the desired output y_true. To acheive this,  cross-entropy which is a performance measure used in classification is used. \n",
        "\n",
        "TensorFlow has a built-in function for calculating the cross-entropy. Note that it uses the values of the logits because it also calculates the softmax internally. But in order to use the cross-entropy to guide the optimization of the model's variables we need a single scalar value, so we simply take the average of the cross-entropy for all the image classifications."
      ]
    },
    {
      "metadata": {
        "id": "MZdzI-pGveJa",
        "colab_type": "code",
        "colab": {
          "autoexec": {
            "startup": false,
            "wait_interval": 0
          }
        }
      },
      "cell_type": "code",
      "source": [
        "cross_entropy = tf.nn.softmax_cross_entropy_with_logits_v2(logits=logits,\n",
        "                                                        labels=y_true)"
      ],
      "execution_count": 0,
      "outputs": []
    },
    {
      "metadata": {
        "id": "JrsutwW5vjro",
        "colab_type": "code",
        "colab": {
          "autoexec": {
            "startup": false,
            "wait_interval": 0
          }
        }
      },
      "cell_type": "code",
      "source": [
        "cost = tf.reduce_mean(cross_entropy)"
      ],
      "execution_count": 0,
      "outputs": []
    },
    {
      "metadata": {
        "id": "Rg_Wfi-QjhH7",
        "colab_type": "text"
      },
      "cell_type": "markdown",
      "source": [
        "###Optimization method\n",
        "\n",
        "Since, we have a cost measure that must be minimized, we can then create an optimizer. In this case it is the basic form of Gradient Descent where the step-size is set to 0.5. Note that optimization is not performed at this point. In fact, nothing is calculated at all, we just add the optimizer-object to the TensorFlow graph for later execution."
      ]
    },
    {
      "metadata": {
        "id": "meH492OTvuCc",
        "colab_type": "code",
        "colab": {
          "autoexec": {
            "startup": false,
            "wait_interval": 0
          }
        }
      },
      "cell_type": "code",
      "source": [
        "optimizer = tf.train.GradientDescentOptimizer(learning_rate=0.5).minimize(cost)"
      ],
      "execution_count": 0,
      "outputs": []
    },
    {
      "metadata": {
        "id": "YQNa06j9vyfW",
        "colab_type": "code",
        "colab": {
          "autoexec": {
            "startup": false,
            "wait_interval": 0
          }
        }
      },
      "cell_type": "code",
      "source": [
        "correct_prediction = tf.equal(y_pred_cls, y_true_cls)"
      ],
      "execution_count": 0,
      "outputs": []
    },
    {
      "metadata": {
        "id": "-IP7CM_ev1tI",
        "colab_type": "code",
        "colab": {
          "autoexec": {
            "startup": false,
            "wait_interval": 0
          }
        }
      },
      "cell_type": "code",
      "source": [
        "accuracy = tf.reduce_mean(tf.cast(correct_prediction, tf.float32))"
      ],
      "execution_count": 0,
      "outputs": []
    },
    {
      "metadata": {
        "id": "ixzZiHO0v4xu",
        "colab_type": "code",
        "colab": {
          "autoexec": {
            "startup": false,
            "wait_interval": 0
          }
        }
      },
      "cell_type": "code",
      "source": [
        "session = tf.Session()"
      ],
      "execution_count": 0,
      "outputs": []
    },
    {
      "metadata": {
        "id": "RJ3Tcwjyv8j0",
        "colab_type": "code",
        "colab": {
          "autoexec": {
            "startup": false,
            "wait_interval": 0
          }
        }
      },
      "cell_type": "code",
      "source": [
        "session.run(tf.global_variables_initializer())"
      ],
      "execution_count": 0,
      "outputs": []
    },
    {
      "metadata": {
        "id": "crHGNyDYv_lF",
        "colab_type": "code",
        "colab": {
          "autoexec": {
            "startup": false,
            "wait_interval": 0
          }
        }
      },
      "cell_type": "code",
      "source": [
        "batch_size = 100"
      ],
      "execution_count": 0,
      "outputs": []
    },
    {
      "metadata": {
        "id": "78Pydcmgka6q",
        "colab_type": "text"
      },
      "cell_type": "markdown",
      "source": [
        "###Helper-function to perform optimization iterations\n",
        "\n",
        "We use Stochastic Gradient Descent which only uses a small batch of images in each iteration of the optimizer. \n",
        "\n",
        "Optimize function performs a number of optimization iterations so as to gradually improve the weights and biases of the model. In each iteration, a new batch of data is selected from the training-set and then TensorFlow executes the optimizer using those training samples."
      ]
    },
    {
      "metadata": {
        "id": "1PhKWUarwDio",
        "colab_type": "code",
        "colab": {
          "autoexec": {
            "startup": false,
            "wait_interval": 0
          }
        }
      },
      "cell_type": "code",
      "source": [
        "def optimize(num_iterations):\n",
        "    for i in range(num_iterations):\n",
        "        # Get a batch of training examples.\n",
        "        # x_batch now holds a batch of images and\n",
        "        # y_true_batch are the true labels for those images.\n",
        "        x_batch, y_true_batch = data.train.next_batch(batch_size)\n",
        "        \n",
        "        # Put the batch into a dict with the proper names\n",
        "        # for placeholder variables in the TensorFlow graph.\n",
        "        # Note that the placeholder for y_true_cls is not set\n",
        "        # because it is not used during training.\n",
        "        feed_dict_train = {x: x_batch,\n",
        "                           y_true: y_true_batch}\n",
        "\n",
        "        # Run the optimizer using this batch of training data.\n",
        "        # TensorFlow assigns the variables in feed_dict_train\n",
        "        # to the placeholder variables and then runs the optimizer.\n",
        "        session.run(optimizer, feed_dict=feed_dict_train)"
      ],
      "execution_count": 0,
      "outputs": []
    },
    {
      "metadata": {
        "id": "nIv1uCgWk6d-",
        "colab_type": "text"
      },
      "cell_type": "markdown",
      "source": [
        "###Dict with the test-set data to be used as input to the TensorFlow graph. "
      ]
    },
    {
      "metadata": {
        "id": "odIkx4HjwHwR",
        "colab_type": "code",
        "colab": {
          "autoexec": {
            "startup": false,
            "wait_interval": 0
          }
        }
      },
      "cell_type": "code",
      "source": [
        "feed_dict_test = {x: data.test.images,\n",
        "                  y_true: data.test.labels,\n",
        "                  y_true_cls: data.test.cls}"
      ],
      "execution_count": 0,
      "outputs": []
    },
    {
      "metadata": {
        "id": "SKW852iywLJQ",
        "colab_type": "code",
        "colab": {
          "autoexec": {
            "startup": false,
            "wait_interval": 0
          }
        }
      },
      "cell_type": "code",
      "source": [
        "def print_accuracy():\n",
        "    # Use TensorFlow to compute the accuracy.\n",
        "    acc = session.run(accuracy, feed_dict=feed_dict_test)\n",
        "    \n",
        "    # Print the accuracy.\n",
        "    print(\"Accuracy on test-set: {0:.1%}\".format(acc))"
      ],
      "execution_count": 0,
      "outputs": []
    },
    {
      "metadata": {
        "id": "tIcHRMWVwPaI",
        "colab_type": "code",
        "colab": {
          "autoexec": {
            "startup": false,
            "wait_interval": 0
          }
        }
      },
      "cell_type": "code",
      "source": [
        "def print_confusion_matrix():\n",
        "    # Get the true classifications for the test-set.\n",
        "    cls_true = data.test.cls\n",
        "    \n",
        "    # Get the predicted classifications for the test-set.\n",
        "    cls_pred = session.run(y_pred_cls, feed_dict=feed_dict_test)\n",
        "\n",
        "    # Get the confusion matrix using sklearn.\n",
        "    cm = confusion_matrix(y_true=cls_true,\n",
        "                          y_pred=cls_pred)\n",
        "\n",
        "    # Print the confusion matrix as text.\n",
        "    print(cm)\n",
        "\n",
        "    # Plot the confusion matrix as an image.\n",
        "    plt.imshow(cm, interpolation='nearest', cmap=plt.cm.Blues)\n",
        "\n",
        "    # Make various adjustments to the plot.\n",
        "    plt.tight_layout()\n",
        "    plt.colorbar()\n",
        "    tick_marks = np.arange(num_classes)\n",
        "    plt.xticks(tick_marks, range(num_classes))\n",
        "    plt.yticks(tick_marks, range(num_classes))\n",
        "    plt.xlabel('Predicted')\n",
        "    plt.ylabel('True')\n",
        "    \n",
        "    # Ensure the plot is shown correctly with multiple plots\n",
        "    # in a single Notebook cell.\n",
        "    plt.show()"
      ],
      "execution_count": 0,
      "outputs": []
    },
    {
      "metadata": {
        "id": "WbRLB5pWwTmy",
        "colab_type": "code",
        "colab": {
          "autoexec": {
            "startup": false,
            "wait_interval": 0
          }
        }
      },
      "cell_type": "code",
      "source": [
        "def plot_example_errors():\n",
        "    # Use TensorFlow to get a list of boolean values\n",
        "    # whether each test-image has been correctly classified,\n",
        "    # and a list for the predicted class of each image.\n",
        "    correct, cls_pred = session.run([correct_prediction, y_pred_cls],\n",
        "                                    feed_dict=feed_dict_test)\n",
        "\n",
        "    # Negate the boolean array.\n",
        "    incorrect = (correct == False)\n",
        "    \n",
        "    # Get the images from the test-set that have been\n",
        "    # incorrectly classified.\n",
        "    images = data.test.images[incorrect]\n",
        "    \n",
        "    # Get the predicted classes for those images.\n",
        "    cls_pred = cls_pred[incorrect]\n",
        "\n",
        "    # Get the true classes for those images.\n",
        "    cls_true = data.test.cls[incorrect]\n",
        "    \n",
        "    # Plot the first 9 images.\n",
        "    plot_images(images=images[0:9],\n",
        "                cls_true=cls_true[0:9],\n",
        "                cls_pred=cls_pred[0:9])"
      ],
      "execution_count": 0,
      "outputs": []
    },
    {
      "metadata": {
        "id": "JHNaYSdQwZjn",
        "colab_type": "code",
        "colab": {
          "autoexec": {
            "startup": false,
            "wait_interval": 0
          }
        }
      },
      "cell_type": "code",
      "source": [
        "def plot_weights():\n",
        "    # Get the values for the weights from the TensorFlow variable.\n",
        "    w = session.run(weights)\n",
        "    \n",
        "    # Get the lowest and highest values for the weights.\n",
        "    # This is used to correct the colour intensity across\n",
        "    # the images so they can be compared with each other.\n",
        "    w_min = np.min(w)\n",
        "    w_max = np.max(w)\n",
        "\n",
        "    # Create figure with 3x4 sub-plots,\n",
        "    # where the last 2 sub-plots are unused.\n",
        "    fig, axes = plt.subplots(3, 4)\n",
        "    fig.subplots_adjust(hspace=0.3, wspace=0.3)\n",
        "\n",
        "    for i, ax in enumerate(axes.flat):\n",
        "        # Only use the weights for the first 10 sub-plots.\n",
        "        if i<10:\n",
        "            # Get the weights for the i'th digit and reshape it.\n",
        "            # Note that w.shape == (img_size_flat, 10)\n",
        "            image = w[:, i].reshape(img_shape)\n",
        "\n",
        "            # Set the label for the sub-plot.\n",
        "            ax.set_xlabel(\"Weights: {0}\".format(i))\n",
        "\n",
        "            # Plot the image.\n",
        "            ax.imshow(image, vmin=w_min, vmax=w_max, cmap='seismic')\n",
        "\n",
        "        # Remove ticks from each sub-plot.\n",
        "        ax.set_xticks([])\n",
        "        ax.set_yticks([])\n",
        "        \n",
        "    # Ensure the plot is shown correctly with multiple plots\n",
        "    # in a single Notebook cell.\n",
        "    plt.show()"
      ],
      "execution_count": 0,
      "outputs": []
    },
    {
      "metadata": {
        "id": "Q06YvSwAlnVU",
        "colab_type": "text"
      },
      "cell_type": "markdown",
      "source": [
        "###Checking Accuracy Before performing Optimization Operations. "
      ]
    },
    {
      "metadata": {
        "id": "Kn3V_FxDwcug",
        "colab_type": "code",
        "colab": {
          "autoexec": {
            "startup": false,
            "wait_interval": 0
          },
          "base_uri": "https://localhost:8080/",
          "height": 34
        },
        "outputId": "79750a21-db11-4bb3-a6fb-cfa5f69d4fed",
        "executionInfo": {
          "status": "ok",
          "timestamp": 1526585648258,
          "user_tz": -60,
          "elapsed": 551,
          "user": {
            "displayName": "Ashwath Salimath",
            "photoUrl": "//lh4.googleusercontent.com/-yBl6P1mPn2U/AAAAAAAAAAI/AAAAAAAAAAc/qKqdUP96_UA/s50-c-k-no/photo.jpg",
            "userId": "101071931555144901076"
          }
        }
      },
      "cell_type": "code",
      "source": [
        "print_accuracy()"
      ],
      "execution_count": 32,
      "outputs": [
        {
          "output_type": "stream",
          "text": [
            "Accuracy on test-set: 9.8%\n"
          ],
          "name": "stdout"
        }
      ]
    },
    {
      "metadata": {
        "id": "DPtvj4NWwglL",
        "colab_type": "code",
        "colab": {
          "autoexec": {
            "startup": false,
            "wait_interval": 0
          },
          "base_uri": "https://localhost:8080/",
          "height": 262
        },
        "outputId": "ce10cb9f-fc26-4d65-daba-0ce71d0ac2c2",
        "executionInfo": {
          "status": "ok",
          "timestamp": 1526585650425,
          "user_tz": -60,
          "elapsed": 1279,
          "user": {
            "displayName": "Ashwath Salimath",
            "photoUrl": "//lh4.googleusercontent.com/-yBl6P1mPn2U/AAAAAAAAAAI/AAAAAAAAAAc/qKqdUP96_UA/s50-c-k-no/photo.jpg",
            "userId": "101071931555144901076"
          }
        }
      },
      "cell_type": "code",
      "source": [
        "plot_example_errors()"
      ],
      "execution_count": 33,
      "outputs": [
        {
          "output_type": "display_data",
          "data": {
            "image/png": "[encoded data removed]",
            "text/plain": [
              "<matplotlib.figure.Figure at 0x7fb5bd1757b8>"
            ]
          },
          "metadata": {
            "tags": []
          }
        }
      ]
    },
    {
      "metadata": {
        "id": "Kj5NPurIm4wJ",
        "colab_type": "text"
      },
      "cell_type": "markdown",
      "source": [
        "The weights can also be plotted as shown below. Positive weights are red and negative weights are blue. These weights can be intuitively understood as image-filters.\n",
        "\n",
        "For example, the weights used to determine if an image shows a zero-digit have a positive reaction (red) to an image of a circle, and have a negative reaction (blue) to images with content in the centre of the circle.\n",
        "\n",
        "Similarly, the weights used to determine if an image shows a one-digit react positively (red) to a vertical line in the centre of the image, and react negatively (blue) to images with content surrounding that line.\n",
        "\n",
        "Note that the weights mostly look like the digits they're supposed to recognize. This is because only one optimization iteration has been performed so the weights are only trained on 100 images. After training on several thousand images, the weights become more difficult to interpret because they have to recognize many variations of how digits can be written."
      ]
    },
    {
      "metadata": {
        "id": "jkijzntPmehh",
        "colab_type": "text"
      },
      "cell_type": "markdown",
      "source": [
        "###Performance after 1st Optimization Iteration"
      ]
    },
    {
      "metadata": {
        "id": "74V8-TSIwkxw",
        "colab_type": "code",
        "colab": {
          "autoexec": {
            "startup": false,
            "wait_interval": 0
          }
        }
      },
      "cell_type": "code",
      "source": [
        "optimize(num_iterations=1)"
      ],
      "execution_count": 0,
      "outputs": []
    },
    {
      "metadata": {
        "id": "GOY-0y0VwoKX",
        "colab_type": "code",
        "colab": {
          "autoexec": {
            "startup": false,
            "wait_interval": 0
          },
          "base_uri": "https://localhost:8080/",
          "height": 34
        },
        "outputId": "795f8ef2-b5de-40d2-f9da-e312ea5de655",
        "executionInfo": {
          "status": "ok",
          "timestamp": 1526585655525,
          "user_tz": -60,
          "elapsed": 701,
          "user": {
            "displayName": "Ashwath Salimath",
            "photoUrl": "//lh4.googleusercontent.com/-yBl6P1mPn2U/AAAAAAAAAAI/AAAAAAAAAAc/qKqdUP96_UA/s50-c-k-no/photo.jpg",
            "userId": "101071931555144901076"
          }
        }
      },
      "cell_type": "code",
      "source": [
        "print_accuracy()"
      ],
      "execution_count": 35,
      "outputs": [
        {
          "output_type": "stream",
          "text": [
            "Accuracy on test-set: 38.6%\n"
          ],
          "name": "stdout"
        }
      ]
    },
    {
      "metadata": {
        "id": "uLXTY6K7wxkR",
        "colab_type": "code",
        "colab": {
          "autoexec": {
            "startup": false,
            "wait_interval": 0
          },
          "base_uri": "https://localhost:8080/",
          "height": 262
        },
        "outputId": "ed010100-66dd-4223-cf2f-b52664281989",
        "executionInfo": {
          "status": "ok",
          "timestamp": 1526585658102,
          "user_tz": -60,
          "elapsed": 1690,
          "user": {
            "displayName": "Ashwath Salimath",
            "photoUrl": "//lh4.googleusercontent.com/-yBl6P1mPn2U/AAAAAAAAAAI/AAAAAAAAAAc/qKqdUP96_UA/s50-c-k-no/photo.jpg",
            "userId": "101071931555144901076"
          }
        }
      },
      "cell_type": "code",
      "source": [
        "plot_example_errors()"
      ],
      "execution_count": 36,
      "outputs": [
        {
          "output_type": "display_data",
          "data": {
            "image/png": "[encoded data removed]",
            "text/plain": [
              "<matplotlib.figure.Figure at 0x7fb5bd22c0f0>"
            ]
          },
          "metadata": {
            "tags": []
          }
        }
      ]
    },
    {
      "metadata": {
        "id": "tpMN-c6aw2QA",
        "colab_type": "code",
        "colab": {
          "autoexec": {
            "startup": false,
            "wait_interval": 0
          },
          "base_uri": "https://localhost:8080/",
          "height": 262
        },
        "outputId": "52e54dcd-316a-4053-b9fe-ba5c001fa64a",
        "executionInfo": {
          "status": "ok",
          "timestamp": 1526585662331,
          "user_tz": -60,
          "elapsed": 2162,
          "user": {
            "displayName": "Ashwath Salimath",
            "photoUrl": "//lh4.googleusercontent.com/-yBl6P1mPn2U/AAAAAAAAAAI/AAAAAAAAAAc/qKqdUP96_UA/s50-c-k-no/photo.jpg",
            "userId": "101071931555144901076"
          }
        }
      },
      "cell_type": "code",
      "source": [
        "plot_weights()"
      ],
      "execution_count": 37,
      "outputs": [
        {
          "output_type": "display_data",
          "data": {
            "image/png": "[encoded data removed]",
            "text/plain": [
              "<matplotlib.figure.Figure at 0x7fb59cb97b38>"
            ]
          },
          "metadata": {
            "tags": []
          }
        }
      ]
    },
    {
      "metadata": {
        "id": "iZ4WhAESnH6-",
        "colab_type": "text"
      },
      "cell_type": "markdown",
      "source": [
        "###Performance after 10 Optimization Iterations"
      ]
    },
    {
      "metadata": {
        "id": "pl0Cg4kgw7Cg",
        "colab_type": "code",
        "colab": {
          "autoexec": {
            "startup": false,
            "wait_interval": 0
          }
        }
      },
      "cell_type": "code",
      "source": [
        "# We have already performed 1 iteration.\n",
        "optimize(num_iterations=9)"
      ],
      "execution_count": 0,
      "outputs": []
    },
    {
      "metadata": {
        "id": "VGDEtMCKx3AV",
        "colab_type": "code",
        "colab": {
          "autoexec": {
            "startup": false,
            "wait_interval": 0
          },
          "base_uri": "https://localhost:8080/",
          "height": 34
        },
        "outputId": "c2f41d2d-6463-40a3-b04c-a4c9d942844a",
        "executionInfo": {
          "status": "ok",
          "timestamp": 1526585666706,
          "user_tz": -60,
          "elapsed": 660,
          "user": {
            "displayName": "Ashwath Salimath",
            "photoUrl": "//lh4.googleusercontent.com/-yBl6P1mPn2U/AAAAAAAAAAI/AAAAAAAAAAc/qKqdUP96_UA/s50-c-k-no/photo.jpg",
            "userId": "101071931555144901076"
          }
        }
      },
      "cell_type": "code",
      "source": [
        "print_accuracy()"
      ],
      "execution_count": 39,
      "outputs": [
        {
          "output_type": "stream",
          "text": [
            "Accuracy on test-set: 78.1%\n"
          ],
          "name": "stdout"
        }
      ]
    },
    {
      "metadata": {
        "id": "I9z5LbFwx7Te",
        "colab_type": "code",
        "colab": {
          "autoexec": {
            "startup": false,
            "wait_interval": 0
          },
          "base_uri": "https://localhost:8080/",
          "height": 262
        },
        "outputId": "378c1f6f-8d17-492b-c2eb-28d92845b06a",
        "executionInfo": {
          "status": "ok",
          "timestamp": 1526585670577,
          "user_tz": -60,
          "elapsed": 2146,
          "user": {
            "displayName": "Ashwath Salimath",
            "photoUrl": "//lh4.googleusercontent.com/-yBl6P1mPn2U/AAAAAAAAAAI/AAAAAAAAAAc/qKqdUP96_UA/s50-c-k-no/photo.jpg",
            "userId": "101071931555144901076"
          }
        }
      },
      "cell_type": "code",
      "source": [
        "plot_example_errors()"
      ],
      "execution_count": 40,
      "outputs": [
        {
          "output_type": "display_data",
          "data": {
            "image/png": "[encoded data removed]",
            "text/plain": [
              "<matplotlib.figure.Figure at 0x7fb59c95f438>"
            ]
          },
          "metadata": {
            "tags": []
          }
        }
      ]
    },
    {
      "metadata": {
        "id": "qo7RGJwayJIR",
        "colab_type": "code",
        "colab": {
          "autoexec": {
            "startup": false,
            "wait_interval": 0
          },
          "base_uri": "https://localhost:8080/",
          "height": 262
        },
        "outputId": "195dacda-6fce-4f8b-8e26-4f7b17c3aa8c",
        "executionInfo": {
          "status": "ok",
          "timestamp": 1526585674942,
          "user_tz": -60,
          "elapsed": 1445,
          "user": {
            "displayName": "Ashwath Salimath",
            "photoUrl": "//lh4.googleusercontent.com/-yBl6P1mPn2U/AAAAAAAAAAI/AAAAAAAAAAc/qKqdUP96_UA/s50-c-k-no/photo.jpg",
            "userId": "101071931555144901076"
          }
        }
      },
      "cell_type": "code",
      "source": [
        "plot_weights()"
      ],
      "execution_count": 41,
      "outputs": [
        {
          "output_type": "display_data",
          "data": {
            "image/png": "[encoded data removed]",
            "text/plain": [
              "<matplotlib.figure.Figure at 0x7fb59cb3aba8>"
            ]
          },
          "metadata": {
            "tags": []
          }
        }
      ]
    },
    {
      "metadata": {
        "id": "YATkN1bgVnHJ",
        "colab_type": "text"
      },
      "cell_type": "markdown",
      "source": [
        "###Performance after 1000 Iterations"
      ]
    },
    {
      "metadata": {
        "id": "JEreOpyUyShL",
        "colab_type": "code",
        "colab": {
          "autoexec": {
            "startup": false,
            "wait_interval": 0
          }
        }
      },
      "cell_type": "code",
      "source": [
        "# We have already performed 10 iterations.\n",
        "optimize(num_iterations=990)"
      ],
      "execution_count": 0,
      "outputs": []
    },
    {
      "metadata": {
        "id": "BCr7CyN2yV4-",
        "colab_type": "code",
        "colab": {
          "autoexec": {
            "startup": false,
            "wait_interval": 0
          },
          "base_uri": "https://localhost:8080/",
          "height": 34
        },
        "outputId": "01c36fd7-c987-4ef2-a7da-296980c50f75",
        "executionInfo": {
          "status": "ok",
          "timestamp": 1526585678936,
          "user_tz": -60,
          "elapsed": 546,
          "user": {
            "displayName": "Ashwath Salimath",
            "photoUrl": "//lh4.googleusercontent.com/-yBl6P1mPn2U/AAAAAAAAAAI/AAAAAAAAAAc/qKqdUP96_UA/s50-c-k-no/photo.jpg",
            "userId": "101071931555144901076"
          }
        }
      },
      "cell_type": "code",
      "source": [
        "print_accuracy()"
      ],
      "execution_count": 43,
      "outputs": [
        {
          "output_type": "stream",
          "text": [
            "Accuracy on test-set: 91.5%\n"
          ],
          "name": "stdout"
        }
      ]
    },
    {
      "metadata": {
        "id": "eSUGm7TTyY79",
        "colab_type": "code",
        "colab": {
          "autoexec": {
            "startup": false,
            "wait_interval": 0
          },
          "base_uri": "https://localhost:8080/",
          "height": 262
        },
        "outputId": "53ad7a12-e63b-4e27-c171-488e2a29712e",
        "executionInfo": {
          "status": "ok",
          "timestamp": 1526585681760,
          "user_tz": -60,
          "elapsed": 1294,
          "user": {
            "displayName": "Ashwath Salimath",
            "photoUrl": "//lh4.googleusercontent.com/-yBl6P1mPn2U/AAAAAAAAAAI/AAAAAAAAAAc/qKqdUP96_UA/s50-c-k-no/photo.jpg",
            "userId": "101071931555144901076"
          }
        }
      },
      "cell_type": "code",
      "source": [
        "plot_example_errors()"
      ],
      "execution_count": 44,
      "outputs": [
        {
          "output_type": "display_data",
          "data": {
            "image/png": "[encoded data removed]",
            "text/plain": [
              "<matplotlib.figure.Figure at 0x7fb6039c7710>"
            ]
          },
          "metadata": {
            "tags": []
          }
        }
      ]
    },
    {
      "metadata": {
        "id": "08q4kwnqyfOb",
        "colab_type": "code",
        "colab": {
          "autoexec": {
            "startup": false,
            "wait_interval": 0
          },
          "base_uri": "https://localhost:8080/",
          "height": 262
        },
        "outputId": "508f1634-58e7-4acb-e2af-906ea0f898a6",
        "executionInfo": {
          "status": "ok",
          "timestamp": 1526585685653,
          "user_tz": -60,
          "elapsed": 1274,
          "user": {
            "displayName": "Ashwath Salimath",
            "photoUrl": "//lh4.googleusercontent.com/-yBl6P1mPn2U/AAAAAAAAAAI/AAAAAAAAAAc/qKqdUP96_UA/s50-c-k-no/photo.jpg",
            "userId": "101071931555144901076"
          }
        }
      },
      "cell_type": "code",
      "source": [
        "plot_weights()"
      ],
      "execution_count": 45,
      "outputs": [
        {
          "output_type": "display_data",
          "data": {
            "image/png": "[encoded data removed]",
            "text/plain": [
              "<matplotlib.figure.Figure at 0x7fb59180d860>"
            ]
          },
          "metadata": {
            "tags": []
          }
        }
      ]
    },
    {
      "metadata": {
        "id": "J4oxGuSLyjWS",
        "colab_type": "code",
        "colab": {
          "autoexec": {
            "startup": false,
            "wait_interval": 0
          },
          "base_uri": "https://localhost:8080/",
          "height": 479
        },
        "outputId": "bb79f968-0abb-4723-ed35-2234d63c6cf9",
        "executionInfo": {
          "status": "ok",
          "timestamp": 1526585688888,
          "user_tz": -60,
          "elapsed": 915,
          "user": {
            "displayName": "Ashwath Salimath",
            "photoUrl": "//lh4.googleusercontent.com/-yBl6P1mPn2U/AAAAAAAAAAI/AAAAAAAAAAc/qKqdUP96_UA/s50-c-k-no/photo.jpg",
            "userId": "101071931555144901076"
          }
        }
      },
      "cell_type": "code",
      "source": [
        "print_confusion_matrix()"
      ],
      "execution_count": 46,
      "outputs": [
        {
          "output_type": "stream",
          "text": [
            "[[ 955    0    2    3    0    7   11    1    1    0]\n",
            " [   0 1118    0    4    0    2    4    2    5    0]\n",
            " [  10   12  892   32   11    3   18   14   30   10]\n",
            " [   3    0    9  952    0   18    4    8    7    9]\n",
            " [   1    2    2    2  921    0   15    2    3   34]\n",
            " [   9    4    3   59    9  755   21    6   18    8]\n",
            " [  10    3    3    2    9   12  916    1    2    0]\n",
            " [   3   11   18   10    7    1    0  941    1   36]\n",
            " [   9   15    7   63   10   34   16   12  796   12]\n",
            " [   9    8    1   18   32    6    1   22    3  909]]\n"
          ],
          "name": "stdout"
        },
        {
          "output_type": "display_data",
          "data": {
            "image/png": "[encoded data removed]",
            "text/plain": [
              "<matplotlib.figure.Figure at 0x7fb5bf38f8d0>"
            ]
          },
          "metadata": {
            "tags": []
          }
        }
      ]
    },
    {
      "metadata": {
        "id": "_ZVfd2XZpTQZ",
        "colab_type": "text"
      },
      "cell_type": "markdown",
      "source": [
        "###Improvements/Changes to the Above Algorithm\n",
        "\n",
        "####1. Change the Learning Rate \n",
        "\n",
        "After changing learning Rate to 0.001, An accuracy of 79.1%. As, Previously, with Learning Rate = 0.5, the Accuracy achieved was 91.5%. It might duw to the fact that the Gradient Descent algorithm didn't converge, as the Learning Rate was Slow. \n",
        "\n",
        "####2. Change the optimizer to AdagradOptimizer\n",
        "\n",
        "The accuracy achieved was 91.9% with Laerning Rate beyongd 0.2. The Learning Rate if set to 0.001, then the Accuracy achieved was 81%. With Learning Rate 0.2 and above, The Algorithm converged. There were slight differences in accuracy achieved w.r.t Optimization Iterations.\n",
        "\n",
        "####3. Change the batch-size to e.g. 1 or 1000\n",
        "\n",
        "Batch size of 1 resulted in lower Accuracy. Batch Size of 1000 resulted in 92.1% Accuracy. We can relate to a Recent Paper by Google, \"Don't Decay the Learning Rate, Increase the Batch Size\", which clearly tells us to increase the Batch Size rather than Focussing on Changing Learning Rate of the Optimizer.\n",
        "\n",
        "####4. We can also use \n",
        "- tf.nn.sparse_softmax_cross_entropy_with_logits\n",
        "- ...or equivalently tf.losses.sparse_softmax_cross_entropy\n",
        "\n",
        "By having {1, ..., K} encodings of labels\n",
        "\n",
        "####Key Concepts in Choosing an Activation Function\n",
        "\n",
        "- For binary classifications, use the sigmoid function in the outer layer.\n",
        "- For multi-label classifications, use the sigmoid function in the outer layer.\n",
        "- For multi-class classifications, use the softmax function in the outer layer.\n",
        "- For all hidden layers, use the RELU.\n",
        "\n",
        "Reference - http://www.handsonmachinelearning.com/blog/1b4RQZ/top-3-neural-network-activation-functions\n",
        "\n",
        "\n",
        "####5. Next Steps\n",
        "\n",
        "- To implement a simple Convolutional Neural Network in TensorFlow which will have a classification accuracy of about 99%. \n",
        "\n",
        "Convolutional Networks work by moving small filters across the input image. This means the filters are re-used for recognizing patterns throughout the entire input image. This makes the Convolutional Networks much more powerful than Fully-Connected networks with the same number of variables. This in turn makes the Convolutional Networks faster to train.\n",
        "\n",
        "\n",
        "\n"
      ]
    }
  ]
}